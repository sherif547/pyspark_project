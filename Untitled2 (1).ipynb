{
  "nbformat": 4,
  "nbformat_minor": 0,
  "metadata": {
    "colab": {
      "provenance": []
    },
    "kernelspec": {
      "name": "python3",
      "display_name": "Python 3"
    },
    "language_info": {
      "name": "python"
    }
  },
  "cells": [
    {
      "cell_type": "code",
      "execution_count": 1,
      "metadata": {
        "colab": {
          "base_uri": "https://localhost:8080/"
        },
        "id": "bgDcHYlUFadi",
        "outputId": "e4f05255-c11f-4bb6-df1f-6bd5773c82f5"
      },
      "outputs": [
        {
          "output_type": "stream",
          "name": "stdout",
          "text": [
            "Mounted at /content/drive\n"
          ]
        }
      ],
      "source": [
        "\n",
        "from google.colab import drive\n",
        "drive.mount('/content/drive')"
      ]
    },
    {
      "cell_type": "code",
      "source": [
        "from IPython.display import display, HTML\n",
        "display(HTML(\"<style>pre { white-space: pre !important; }</style>\"))\n"
      ],
      "metadata": {
        "colab": {
          "base_uri": "https://localhost:8080/",
          "height": 17
        },
        "id": "MU5A8fwUFcTU",
        "outputId": "87b68f02-fba5-4cb4-ceb8-552127929929"
      },
      "execution_count": 2,
      "outputs": [
        {
          "output_type": "display_data",
          "data": {
            "text/plain": [
              "<IPython.core.display.HTML object>"
            ],
            "text/html": [
              "<style>pre { white-space: pre !important; }</style>"
            ]
          },
          "metadata": {}
        }
      ]
    },
    {
      "cell_type": "code",
      "source": [
        "from pyspark.sql import SparkSession\n",
        "from pyspark.sql.types import StructType, StructField, StringType, IntegerType, DoubleType, TimestampType\n",
        "from pyspark.sql.functions import window, col"
      ],
      "metadata": {
        "id": "yb7-Ole0GHAL"
      },
      "execution_count": 120,
      "outputs": []
    },
    {
      "cell_type": "code",
      "source": [
        "path='/content/drive/MyDrive/Online_Retail.csv'"
      ],
      "metadata": {
        "id": "ljmjQIqTGIOx"
      },
      "execution_count": 3,
      "outputs": []
    },
    {
      "cell_type": "code",
      "source": [
        "pip install findspark"
      ],
      "metadata": {
        "colab": {
          "base_uri": "https://localhost:8080/"
        },
        "id": "kTq3nXwVGgBj",
        "outputId": "5dcdeae8-6702-4759-e2b5-dd57d9c5a053"
      },
      "execution_count": 4,
      "outputs": [
        {
          "output_type": "stream",
          "name": "stdout",
          "text": [
            "Collecting findspark\n",
            "  Downloading findspark-2.0.1-py2.py3-none-any.whl.metadata (352 bytes)\n",
            "Downloading findspark-2.0.1-py2.py3-none-any.whl (4.4 kB)\n",
            "Installing collected packages: findspark\n",
            "Successfully installed findspark-2.0.1\n"
          ]
        }
      ]
    },
    {
      "cell_type": "code",
      "source": [
        "import findspark\n",
        "findspark.init()\n",
        "from pyspark.sql import SparkSession"
      ],
      "metadata": {
        "id": "cvFa4M7BHC4d"
      },
      "execution_count": 5,
      "outputs": []
    },
    {
      "cell_type": "code",
      "source": [
        "spark=(SparkSession.builder.appName('First_pro').getOrCreate())\n",
        "spark"
      ],
      "metadata": {
        "colab": {
          "base_uri": "https://localhost:8080/",
          "height": 219
        },
        "id": "78pyvAAdHF3A",
        "outputId": "97a8945f-6f5c-4a9a-8299-02a5bc4ab469"
      },
      "execution_count": 6,
      "outputs": [
        {
          "output_type": "execute_result",
          "data": {
            "text/plain": [
              "<pyspark.sql.session.SparkSession at 0x78547cf813d0>"
            ],
            "text/html": [
              "\n",
              "            <div>\n",
              "                <p><b>SparkSession - in-memory</b></p>\n",
              "                \n",
              "        <div>\n",
              "            <p><b>SparkContext</b></p>\n",
              "\n",
              "            <p><a href=\"http://eeee89b544b3:4040\">Spark UI</a></p>\n",
              "\n",
              "            <dl>\n",
              "              <dt>Version</dt>\n",
              "                <dd><code>v3.5.5</code></dd>\n",
              "              <dt>Master</dt>\n",
              "                <dd><code>local[*]</code></dd>\n",
              "              <dt>AppName</dt>\n",
              "                <dd><code>First_pro</code></dd>\n",
              "            </dl>\n",
              "        </div>\n",
              "        \n",
              "            </div>\n",
              "        "
            ]
          },
          "metadata": {},
          "execution_count": 6
        }
      ]
    },
    {
      "cell_type": "code",
      "source": [
        "df=spark.read.format(\"csv\").option('header','true')\\\n",
        ".option('inferSchema','true')\\\n",
        ".option(\"recursiveFileLookup\", \"true\")\\\n",
        ".load(path)"
      ],
      "metadata": {
        "id": "Ae2A6Rd6ILGv"
      },
      "execution_count": 7,
      "outputs": []
    },
    {
      "cell_type": "code",
      "source": [
        "df.printSchema()"
      ],
      "metadata": {
        "colab": {
          "base_uri": "https://localhost:8080/"
        },
        "id": "fVoPv8ZwIeXZ",
        "outputId": "01816508-3822-4b0a-b98d-5fdd162b036f"
      },
      "execution_count": 8,
      "outputs": [
        {
          "output_type": "stream",
          "name": "stdout",
          "text": [
            "root\n",
            " |-- InvoiceNo: string (nullable = true)\n",
            " |-- StockCode: string (nullable = true)\n",
            " |-- Description: string (nullable = true)\n",
            " |-- Quantity: integer (nullable = true)\n",
            " |-- InvoiceDate: string (nullable = true)\n",
            " |-- UnitPrice: double (nullable = true)\n",
            " |-- CustomerID: integer (nullable = true)\n",
            " |-- Country: string (nullable = true)\n",
            "\n"
          ]
        }
      ]
    },
    {
      "cell_type": "code",
      "source": [
        "df.show(10,truncate=False)"
      ],
      "metadata": {
        "colab": {
          "base_uri": "https://localhost:8080/"
        },
        "id": "EigrNZuZIqw4",
        "outputId": "97ae02b9-98f0-4a29-b735-2c11dbf6a58b"
      },
      "execution_count": 9,
      "outputs": [
        {
          "output_type": "stream",
          "name": "stdout",
          "text": [
            "+---------+---------+-----------------------------------+--------+----------------+---------+----------+--------------+\n",
            "|InvoiceNo|StockCode|Description                        |Quantity|InvoiceDate     |UnitPrice|CustomerID|Country       |\n",
            "+---------+---------+-----------------------------------+--------+----------------+---------+----------+--------------+\n",
            "|536365   |85123A   |WHITE HANGING HEART T-LIGHT HOLDER |6       |01/12/2010 08:26|2.55     |17850     |United Kingdom|\n",
            "|536365   |71053    |WHITE METAL LANTERN                |6       |01/12/2010 08:26|3.39     |17850     |United Kingdom|\n",
            "|536365   |84406B   |CREAM CUPID HEARTS COAT HANGER     |8       |01/12/2010 08:26|2.75     |17850     |United Kingdom|\n",
            "|536365   |84029G   |KNITTED UNION FLAG HOT WATER BOTTLE|6       |01/12/2010 08:26|3.39     |17850     |United Kingdom|\n",
            "|536365   |84029E   |RED WOOLLY HOTTIE WHITE HEART.     |6       |01/12/2010 08:26|3.39     |17850     |United Kingdom|\n",
            "|536365   |22752    |SET 7 BABUSHKA NESTING BOXES       |2       |01/12/2010 08:26|7.65     |17850     |United Kingdom|\n",
            "|536365   |21730    |GLASS STAR FROSTED T-LIGHT HOLDER  |6       |01/12/2010 08:26|4.25     |17850     |United Kingdom|\n",
            "|536366   |22633    |HAND WARMER UNION JACK             |6       |01/12/2010 08:28|1.85     |17850     |United Kingdom|\n",
            "|536366   |22632    |HAND WARMER RED POLKA DOT          |6       |01/12/2010 08:28|1.85     |17850     |United Kingdom|\n",
            "|536367   |84879    |ASSORTED COLOUR BIRD ORNAMENT      |32      |01/12/2010 08:34|1.69     |13047     |United Kingdom|\n",
            "+---------+---------+-----------------------------------+--------+----------------+---------+----------+--------------+\n",
            "only showing top 10 rows\n",
            "\n"
          ]
        }
      ]
    },
    {
      "cell_type": "code",
      "source": [
        "from pyspark.sql.functions import *"
      ],
      "metadata": {
        "id": "CzuC99ZDKqOm"
      },
      "execution_count": 10,
      "outputs": []
    },
    {
      "cell_type": "code",
      "source": [],
      "metadata": {
        "id": "lPwmncIfLsYF"
      },
      "execution_count": 10,
      "outputs": []
    },
    {
      "cell_type": "code",
      "source": [
        "dfsq=df.createOrReplaceTempView('Retial')"
      ],
      "metadata": {
        "id": "OXFsYRxILuVf"
      },
      "execution_count": 18,
      "outputs": []
    },
    {
      "cell_type": "code",
      "source": [
        "\n"
      ],
      "metadata": {
        "id": "6n1BqZYSNMMO"
      },
      "execution_count": 23,
      "outputs": []
    },
    {
      "cell_type": "code",
      "source": [
        "sql_query1='SELECT * FROM Retial'\n",
        "q1=spark.sql(sql_query1)\n",
        "q1.show()"
      ],
      "metadata": {
        "colab": {
          "base_uri": "https://localhost:8080/"
        },
        "id": "YEFX9XVCNQy3",
        "outputId": "01796d09-b4b7-46b9-a533-f9e9c27ac725"
      },
      "execution_count": 22,
      "outputs": [
        {
          "output_type": "stream",
          "name": "stdout",
          "text": [
            "+---------+---------+--------------------+--------+----------------+---------+----------+--------------+\n",
            "|InvoiceNo|StockCode|         Description|Quantity|     InvoiceDate|UnitPrice|CustomerID|       Country|\n",
            "+---------+---------+--------------------+--------+----------------+---------+----------+--------------+\n",
            "|   536365|   85123A|WHITE HANGING HEA...|       6|01/12/2010 08:26|     2.55|     17850|United Kingdom|\n",
            "|   536365|    71053| WHITE METAL LANTERN|       6|01/12/2010 08:26|     3.39|     17850|United Kingdom|\n",
            "|   536365|   84406B|CREAM CUPID HEART...|       8|01/12/2010 08:26|     2.75|     17850|United Kingdom|\n",
            "|   536365|   84029G|KNITTED UNION FLA...|       6|01/12/2010 08:26|     3.39|     17850|United Kingdom|\n",
            "|   536365|   84029E|RED WOOLLY HOTTIE...|       6|01/12/2010 08:26|     3.39|     17850|United Kingdom|\n",
            "|   536365|    22752|SET 7 BABUSHKA NE...|       2|01/12/2010 08:26|     7.65|     17850|United Kingdom|\n",
            "|   536365|    21730|GLASS STAR FROSTE...|       6|01/12/2010 08:26|     4.25|     17850|United Kingdom|\n",
            "|   536366|    22633|HAND WARMER UNION...|       6|01/12/2010 08:28|     1.85|     17850|United Kingdom|\n",
            "|   536366|    22632|HAND WARMER RED P...|       6|01/12/2010 08:28|     1.85|     17850|United Kingdom|\n",
            "|   536367|    84879|ASSORTED COLOUR B...|      32|01/12/2010 08:34|     1.69|     13047|United Kingdom|\n",
            "|   536367|    22745|POPPY'S PLAYHOUSE...|       6|01/12/2010 08:34|      2.1|     13047|United Kingdom|\n",
            "|   536367|    22748|POPPY'S PLAYHOUSE...|       6|01/12/2010 08:34|      2.1|     13047|United Kingdom|\n",
            "|   536367|    22749|FELTCRAFT PRINCES...|       8|01/12/2010 08:34|     3.75|     13047|United Kingdom|\n",
            "|   536367|    22310|IVORY KNITTED MUG...|       6|01/12/2010 08:34|     1.65|     13047|United Kingdom|\n",
            "|   536367|    84969|BOX OF 6 ASSORTED...|       6|01/12/2010 08:34|     4.25|     13047|United Kingdom|\n",
            "|   536367|    22623|BOX OF VINTAGE JI...|       3|01/12/2010 08:34|     4.95|     13047|United Kingdom|\n",
            "|   536367|    22622|BOX OF VINTAGE AL...|       2|01/12/2010 08:34|     9.95|     13047|United Kingdom|\n",
            "|   536367|    21754|HOME BUILDING BLO...|       3|01/12/2010 08:34|     5.95|     13047|United Kingdom|\n",
            "|   536367|    21755|LOVE BUILDING BLO...|       3|01/12/2010 08:34|     5.95|     13047|United Kingdom|\n",
            "|   536367|    21777|RECIPE BOX WITH M...|       4|01/12/2010 08:34|     7.95|     13047|United Kingdom|\n",
            "+---------+---------+--------------------+--------+----------------+---------+----------+--------------+\n",
            "only showing top 20 rows\n",
            "\n"
          ]
        }
      ]
    },
    {
      "cell_type": "code",
      "source": [
        "## another with out sql\n",
        "q2=df.select('*')\n",
        "q2.show(5)"
      ],
      "metadata": {
        "colab": {
          "base_uri": "https://localhost:8080/"
        },
        "id": "34okpqobNYnX",
        "outputId": "961fd39d-02c9-4ef6-c476-cbb7f29c2988"
      },
      "execution_count": 27,
      "outputs": [
        {
          "output_type": "stream",
          "name": "stdout",
          "text": [
            "+---------+---------+--------------------+--------+----------------+---------+----------+--------------+\n",
            "|InvoiceNo|StockCode|         Description|Quantity|     InvoiceDate|UnitPrice|CustomerID|       Country|\n",
            "+---------+---------+--------------------+--------+----------------+---------+----------+--------------+\n",
            "|   536365|   85123A|WHITE HANGING HEA...|       6|01/12/2010 08:26|     2.55|     17850|United Kingdom|\n",
            "|   536365|    71053| WHITE METAL LANTERN|       6|01/12/2010 08:26|     3.39|     17850|United Kingdom|\n",
            "|   536365|   84406B|CREAM CUPID HEART...|       8|01/12/2010 08:26|     2.75|     17850|United Kingdom|\n",
            "|   536365|   84029G|KNITTED UNION FLA...|       6|01/12/2010 08:26|     3.39|     17850|United Kingdom|\n",
            "|   536365|   84029E|RED WOOLLY HOTTIE...|       6|01/12/2010 08:26|     3.39|     17850|United Kingdom|\n",
            "+---------+---------+--------------------+--------+----------------+---------+----------+--------------+\n",
            "only showing top 5 rows\n",
            "\n"
          ]
        }
      ]
    },
    {
      "cell_type": "code",
      "source": [
        "# Define the SQL query for transformation\n",
        "sql_query = \"\"\"\n",
        "SELECT Country, SUM(Quantity) as TotalQuantity\n",
        "FROM Retial\n",
        "WHERE Country IS NOT NULL\n",
        "GROUP BY Country\n",
        "ORDER BY TotalQuantity\n",
        "\"\"\"\n",
        "\n",
        "# Execute the query using Spark SQL\n",
        "aggDF = spark.sql(sql_query)\n",
        "\n",
        "# Show the top 10 rows of the aggregated DataFrame\n",
        "aggDF.show(10)"
      ],
      "metadata": {
        "colab": {
          "base_uri": "https://localhost:8080/"
        },
        "id": "UH-lt_qyNp0W",
        "outputId": "cb00e3f9-359b-4a49-c0e8-979a71d5468f"
      },
      "execution_count": 47,
      "outputs": [
        {
          "output_type": "stream",
          "name": "stdout",
          "text": [
            "+--------------------+-------------+\n",
            "|             Country|TotalQuantity|\n",
            "+--------------------+-------------+\n",
            "|        Saudi Arabia|           75|\n",
            "|             Bahrain|          260|\n",
            "|                 RSA|          352|\n",
            "|              Brazil|          356|\n",
            "|             Lebanon|          386|\n",
            "|  European Community|          497|\n",
            "|      Czech Republic|          592|\n",
            "|           Lithuania|          652|\n",
            "|               Malta|          944|\n",
            "|United Arab Emirates|          982|\n",
            "+--------------------+-------------+\n",
            "only showing top 10 rows\n",
            "\n"
          ]
        }
      ]
    },
    {
      "cell_type": "code",
      "source": [
        "q2=df.select('Country','Quantity')\\\n",
        ".groupby('Country')\\\n",
        ".agg(sum('Quantity').alias('total_Q'))\\\n",
        ".sort('total_Q')\\\n",
        ".where('total_Q < 800')"
      ],
      "metadata": {
        "id": "muEo5SNXOnzS"
      },
      "execution_count": 76,
      "outputs": []
    },
    {
      "cell_type": "code",
      "source": [
        "q2.show(10)"
      ],
      "metadata": {
        "colab": {
          "base_uri": "https://localhost:8080/"
        },
        "id": "YLNn7Y8IgoXq",
        "outputId": "cbb9d4b7-1a78-4c7f-943a-ef97a40e6db8"
      },
      "execution_count": 77,
      "outputs": [
        {
          "output_type": "stream",
          "name": "stdout",
          "text": [
            "+------------------+-------+\n",
            "|           Country|total_Q|\n",
            "+------------------+-------+\n",
            "|      Saudi Arabia|     75|\n",
            "|           Bahrain|    260|\n",
            "|               RSA|    352|\n",
            "|            Brazil|    356|\n",
            "|           Lebanon|    386|\n",
            "|European Community|    497|\n",
            "|    Czech Republic|    592|\n",
            "|         Lithuania|    652|\n",
            "+------------------+-------+\n",
            "\n"
          ]
        }
      ]
    },
    {
      "cell_type": "code",
      "source": [
        "strschema=df.schema"
      ],
      "metadata": {
        "id": "UJsexNlTjQQP"
      },
      "execution_count": 90,
      "outputs": []
    },
    {
      "cell_type": "code",
      "source": [
        "strdf=spark.readStream.schema(strschema).format('csv')\\\n",
        ".option('maxfilepertrigger',1)\\\n",
        ".option('header','true')\\\n",
        ".load('/content/drive/MyDrive/Retail_Days/by-day/*')\\\n",
        "\n"
      ],
      "metadata": {
        "id": "TUkd55uVm3bA"
      },
      "execution_count": 95,
      "outputs": []
    },
    {
      "cell_type": "code",
      "source": [
        "# Register the streaming DataFrame as a temporary view for SQL operations\n",
        "strdf.createOrReplaceTempView(\"streaming_data\")"
      ],
      "metadata": {
        "id": "CcVngi3Km3Xk"
      },
      "execution_count": 96,
      "outputs": []
    },
    {
      "cell_type": "code",
      "source": [],
      "metadata": {
        "id": "gixIavmQm3Uy"
      },
      "execution_count": 88,
      "outputs": []
    },
    {
      "cell_type": "code",
      "source": [
        "# Define the SQL query for transformation\n",
        "sql_query = \"\"\"\n",
        "SELECT\n",
        "    CustomerID as CustomerId,\n",
        "    (UnitPrice * Quantity) as total_cost,\n",
        "    InvoiceDate\n",
        "FROM\n",
        "    streaming_data\n",
        "    \"\"\"\n",
        "\n",
        "qs1=spark.sql(sql_query)\n",
        "qs1.createGlobalTempView('Transformeddata')"
      ],
      "metadata": {
        "id": "dMouJziym47y"
      },
      "execution_count": 103,
      "outputs": []
    },
    {
      "cell_type": "code",
      "source": [],
      "metadata": {
        "id": "BKYk6B2ynqbJ"
      },
      "execution_count": 123,
      "outputs": []
    },
    {
      "cell_type": "code",
      "source": [],
      "metadata": {
        "id": "_SvKdDh_n8xG"
      },
      "execution_count": 123,
      "outputs": []
    },
    {
      "cell_type": "code",
      "source": [
        "# Correct way to run the streaming query\n",
        "query2 = qs1.writeStream.format(\"memory\").queryName(\"transformed_data\").outputMode(\"append\").start()\n",
        "\n",
        "# You must keep the stream alive\n",
        "# Or process.awaitAnyTermination() in notebooks"
      ],
      "metadata": {
        "id": "P1k65n_puSQe"
      },
      "execution_count": 137,
      "outputs": []
    },
    {
      "cell_type": "code",
      "source": [
        "# Check the current status of the streaming query\n",
        "status = query2.status\n",
        "status"
      ],
      "metadata": {
        "colab": {
          "base_uri": "https://localhost:8080/"
        },
        "id": "zkNy_dW9ubyv",
        "outputId": "78ed91fe-9540-4de9-dbf6-fafdedb16170"
      },
      "execution_count": 139,
      "outputs": [
        {
          "output_type": "execute_result",
          "data": {
            "text/plain": [
              "{'message': 'Processing new data',\n",
              " 'isDataAvailable': True,\n",
              " 'isTriggerActive': True}"
            ]
          },
          "metadata": {},
          "execution_count": 139
        }
      ]
    },
    {
      "cell_type": "code",
      "source": [],
      "metadata": {
        "id": "45wxeIiFypkv"
      },
      "execution_count": 139,
      "outputs": []
    },
    {
      "cell_type": "code",
      "source": [
        "\n",
        "# Check if the streaming query is active\n",
        "is_active = query2.isActive\n",
        "is_active"
      ],
      "metadata": {
        "colab": {
          "base_uri": "https://localhost:8080/"
        },
        "id": "4ud8NG-f0DHF",
        "outputId": "bd3c5209-0186-40dc-c3b8-448609523c15"
      },
      "execution_count": 142,
      "outputs": [
        {
          "output_type": "execute_result",
          "data": {
            "text/plain": [
              "True"
            ]
          },
          "metadata": {},
          "execution_count": 142
        }
      ]
    },
    {
      "cell_type": "code",
      "source": [
        "\n",
        "# get the last progress report\n",
        "last_progress = query.lastProgress\n",
        "print(f\"Last progress: {last_progress}\")"
      ],
      "metadata": {
        "colab": {
          "base_uri": "https://localhost:8080/"
        },
        "id": "Z6LCqN9F0O6T",
        "outputId": "641a567d-31fb-44ae-d4fb-7f5a08a9beaa"
      },
      "execution_count": 143,
      "outputs": [
        {
          "output_type": "stream",
          "name": "stdout",
          "text": [
            "Last progress: {'id': '95590424-26af-4b0f-959b-d6e00f2d2b65', 'runId': '0a64e10c-8ee3-457e-9759-4b1f7d31e2f4', 'name': 'transformed_data', 'timestamp': '2025-04-03T22:40:30.496Z', 'batchId': 1, 'numInputRows': 0, 'inputRowsPerSecond': 0.0, 'processedRowsPerSecond': 0.0, 'durationMs': {'latestOffset': 2701, 'triggerExecution': 2701}, 'stateOperators': [], 'sources': [{'description': 'FileStreamSource[file:/content/drive/MyDrive/Retail_Days/by-day/*]', 'startOffset': {'logOffset': 0}, 'endOffset': {'logOffset': 0}, 'latestOffset': None, 'numInputRows': 0, 'inputRowsPerSecond': 0.0, 'processedRowsPerSecond': 0.0}], 'sink': {'description': 'MemorySink', 'numOutputRows': 0}}\n"
          ]
        }
      ]
    },
    {
      "cell_type": "code",
      "source": [
        "# Query the result to display the top 10 rows\n",
        "result = spark.sql(\"\"\"\n",
        "SELECT *\n",
        "FROM transformed_data\n",
        "ORDER BY total_cost DESC\n",
        "\"\"\")\n",
        "result.show(10)"
      ],
      "metadata": {
        "colab": {
          "base_uri": "https://localhost:8080/"
        },
        "id": "rPosfyTS0fdF",
        "outputId": "68187035-dd65-4ddc-9e42-b83c2993aa3a"
      },
      "execution_count": 147,
      "outputs": [
        {
          "output_type": "stream",
          "name": "stdout",
          "text": [
            "+----------+-----------------+-------------------+\n",
            "|CustomerId|       total_cost|        InvoiceDate|\n",
            "+----------+-----------------+-------------------+\n",
            "|      NULL|          77183.6|2011-01-18 10:01:00|\n",
            "|      NULL|          38970.0|2011-06-10 15:28:00|\n",
            "|      NULL|         13541.33|2010-12-07 15:08:00|\n",
            "|      NULL|         11062.06|2011-08-12 14:50:00|\n",
            "|      NULL|          8142.75|2011-05-03 13:46:00|\n",
            "|      NULL|7144.719999999999|2011-09-20 11:05:00|\n",
            "|      NULL|6539.400000000001|2011-01-11 12:55:00|\n",
            "|      NULL|6539.400000000001|2011-04-18 13:20:00|\n",
            "|      NULL|           4921.5|2011-01-11 12:55:00|\n",
            "|      NULL|           4632.0|2011-04-18 13:20:00|\n",
            "+----------+-----------------+-------------------+\n",
            "only showing top 10 rows\n",
            "\n"
          ]
        }
      ]
    },
    {
      "cell_type": "code",
      "source": [],
      "metadata": {
        "id": "llvcY06F0kGi"
      },
      "execution_count": null,
      "outputs": []
    }
  ]
}